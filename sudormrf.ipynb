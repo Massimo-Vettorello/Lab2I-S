{
 "cells": [
  {
   "cell_type": "code",
   "execution_count": null,
   "id": "6fffdf8d",
   "metadata": {},
   "outputs": [],
   "source": [
    "import numpy as np\n",
    "import csv\n",
    "import ast\n",
    "import random"
   ]
  },
  {
   "cell_type": "markdown",
   "id": "4f8add77",
   "metadata": {},
   "source": [
    "# TASK 1\n"
   ]
  },
  {
   "cell_type": "code",
   "execution_count": 2,
   "id": "dd1558ab",
   "metadata": {},
   "outputs": [
    {
     "name": "stdout",
     "output_type": "stream",
     "text": [
      "[[0, 0, 0, 0, 0, 0, 0], [1, 0, 0, 0, 0, 0, 0], [0, 1, 0, 0, 0, 0, 0], [0, 0, 1, 0, 0, 0, 0], [0, 0, 0, 1, 0, 0, 0], [0, 0, 0, 0, 1, 0, 0], [0, 0, 0, 0, 0, 1, 0], [0, 0, 0, 0, 0, 0, 1], [1, 1, 0, 0, 0, 0, 0], [1, 0, 1, 0, 0, 0, 0], [1, 0, 0, 1, 0, 0, 0], [1, 0, 0, 0, 1, 0, 0], [1, 0, 0, 0, 0, 1, 0], [1, 0, 0, 0, 0, 0, 1], [0, 1, 1, 0, 0, 0, 0], [0, 1, 0, 1, 0, 0, 0], [0, 1, 0, 0, 1, 0, 0], [0, 1, 0, 0, 0, 1, 0], [0, 1, 0, 0, 0, 0, 1], [0, 0, 1, 1, 0, 0, 0], [0, 0, 1, 0, 1, 0, 0], [0, 0, 1, 0, 0, 1, 0], [0, 0, 1, 0, 0, 0, 1], [0, 0, 0, 1, 1, 0, 0], [0, 0, 0, 1, 0, 1, 0], [0, 0, 0, 1, 0, 0, 1], [0, 0, 0, 0, 1, 1, 0], [0, 0, 0, 0, 1, 0, 1], [0, 0, 0, 0, 0, 1, 1], [1, 1, 1, 0, 0, 0, 0], [1, 1, 0, 1, 0, 0, 0], [1, 1, 0, 0, 1, 0, 0], [1, 1, 0, 0, 0, 1, 0], [1, 1, 0, 0, 0, 0, 1], [1, 0, 1, 1, 0, 0, 0], [1, 0, 1, 0, 1, 0, 0], [1, 0, 1, 0, 0, 1, 0], [1, 0, 1, 0, 0, 0, 1], [1, 0, 0, 1, 1, 0, 0], [1, 0, 0, 1, 0, 1, 0], [1, 0, 0, 1, 0, 0, 1], [1, 0, 0, 0, 1, 1, 0], [1, 0, 0, 0, 1, 0, 1], [1, 0, 0, 0, 0, 1, 1], [0, 1, 1, 1, 0, 0, 0], [0, 1, 1, 0, 1, 0, 0], [0, 1, 1, 0, 0, 1, 0], [0, 1, 1, 0, 0, 0, 1], [0, 1, 0, 1, 1, 0, 0], [0, 1, 0, 1, 0, 1, 0], [0, 1, 0, 1, 0, 0, 1], [0, 1, 0, 0, 1, 1, 0], [0, 1, 0, 0, 1, 0, 1], [0, 1, 0, 0, 0, 1, 1], [0, 0, 1, 1, 1, 0, 0], [0, 0, 1, 1, 0, 1, 0], [0, 0, 1, 1, 0, 0, 1], [0, 0, 1, 0, 1, 1, 0], [0, 0, 1, 0, 1, 0, 1], [0, 0, 1, 0, 0, 1, 1], [0, 0, 0, 1, 1, 1, 0], [0, 0, 0, 1, 1, 0, 1], [0, 0, 0, 1, 0, 1, 1], [0, 0, 0, 0, 1, 1, 1]]\n"
     ]
    }
   ],
   "source": [
    "def generate_legitimate_error():\n",
    "\n",
    "    legitimate_error_list = []\n",
    "    with open('dataset/legitimate_channel_error.csv', newline='') as csvfile:\n",
    "        \n",
    "        for line in csvfile:\n",
    "            legitimate_error_list.append(ast.literal_eval(line.strip()))\n",
    "\n",
    "    legitimate_error_list_clean = [elem[0] if isinstance(elem, tuple) else elem for elem in legitimate_error_list]\n",
    "\n",
    "    return legitimate_error_list_clean\n",
    "\n",
    "\n",
    "def generate_eavesdropper_error():\n",
    "\n",
    "    eavesdropper_error_list = []\n",
    "    with open('dataset/eavesdropper_channel_error.csv', newline='') as csvfile:\n",
    "        \n",
    "        for line in csvfile:\n",
    "            eavesdropper_error_list.append(ast.literal_eval(line.strip()))\n",
    "\n",
    "    eavesdropper_error_list_clean = [elem[0] if isinstance(elem, tuple) else elem for elem in eavesdropper_error_list]\n",
    "\n",
    "    return eavesdropper_error_list_clean\n",
    "\n",
    "print(generate_eavesdropper_error())\n",
    "\n"
   ]
  },
  {
   "cell_type": "code",
   "execution_count": 3,
   "id": "3203592b",
   "metadata": {},
   "outputs": [],
   "source": [
    "\n",
    "\n",
    "def random_gen(n):\n",
    "    if n <= 0:\n",
    "        raise ValueError(\"n needs to be > 0\")\n",
    "    return random.randint(0, n - 1)\n"
   ]
  },
  {
   "cell_type": "code",
   "execution_count": 4,
   "id": "16a3e9a4",
   "metadata": {},
   "outputs": [],
   "source": [
    "def binary_sum(x,y):\n",
    "\n",
    "    result = []\n",
    "    reminder = 0\n",
    "\n",
    "    for i in reversed(range(len(x))):\n",
    "        sum = x[i]+y[i]+reminder\n",
    "        bit = sum%2\n",
    "        reminder = sum // 2\n",
    "        result.insert(0,bit)\n",
    "    \n",
    "    if reminder:\n",
    "        result.insert(0,reminder)\n",
    "    \n",
    "    return result\n"
   ]
  },
  {
   "cell_type": "code",
   "execution_count": 5,
   "id": "1af1048e",
   "metadata": {},
   "outputs": [],
   "source": [
    "def xor(x,y): #probabilmente si potrebbe usare numpy\n",
    "    result = []\n",
    "    for i in range(len(x)):\n",
    "        result.append(x[i] ^ y[i])\n",
    "    return result"
   ]
  },
  {
   "cell_type": "code",
   "execution_count": 6,
   "id": "1e3714c6",
   "metadata": {},
   "outputs": [],
   "source": [
    "def wiretap_channel(input):\n",
    "\n",
    "    legitimate_error_list = generate_legitimate_error()\n",
    "    eavesdropper_error_list = generate_eavesdropper_error()\n",
    "    legitimate_error = legitimate_error_list[random_gen(8)]\n",
    "    eavesdropper_error = eavesdropper_error_list[random_gen(64)]\n",
    "\n",
    "    return (xor(input,legitimate_error),xor(input,eavesdropper_error))\n",
    "\n",
    "\n",
    "x = [0,0,0,0,0,0,0]\n"
   ]
  },
  {
   "cell_type": "code",
   "execution_count": 7,
   "id": "4d8bd7b2",
   "metadata": {},
   "outputs": [],
   "source": [
    "def run_wiretap_simulation(input, num_runs=10**4):\n",
    "    results = {}\n",
    "\n",
    "    for _ in range(num_runs):\n",
    "        y, z = wiretap_channel(input)\n",
    "\n",
    "        # Convertiamo le liste x e y in tuple per una gestione più facile nel dizionario\n",
    "        y_tuple = tuple(y)\n",
    "        z_tuple = tuple(z)\n",
    "\n",
    "        if (y_tuple, z_tuple) not in results:\n",
    "            results[(y_tuple, z_tuple)] = 0\n",
    "        results[(y_tuple, z_tuple)] += 1\n",
    "\n",
    "    # Calcoliamo le probabilità\n",
    "    probabilities = {key: count / num_runs for key, count in results.items()}\n",
    "    \n",
    "    return probabilities\n",
    "\n",
    "# Funzione per dividere le probabilità per x e y\n",
    "def divide_probabilities(probabilities):\n",
    "    y_probabilities = {}\n",
    "    z_probabilities = {}\n",
    "\n",
    "    # Dividiamo le probabilità\n",
    "    for (y, z), prob in probabilities.items():\n",
    "        if y not in y_probabilities:\n",
    "            y_probabilities[y] = 0\n",
    "        if z not in z_probabilities:\n",
    "            z_probabilities[z] = 0\n",
    "        \n",
    "        y_probabilities[y] += prob\n",
    "        z_probabilities[z] += prob\n",
    "\n",
    "    # Ordinamento delle probabilità\n",
    "    y_probabilities = dict(sorted(y_probabilities.items()))\n",
    "    z_probabilities = dict(sorted(z_probabilities.items()))\n",
    "\n",
    "    return y_probabilities, z_probabilities\n",
    "\n",
    "\n"
   ]
  },
  {
   "cell_type": "code",
   "execution_count": 8,
   "id": "91188c98",
   "metadata": {},
   "outputs": [],
   "source": [
    "probabilities = run_wiretap_simulation(x)\n",
    "x_probabilities, y_probabilities = divide_probabilities(probabilities)"
   ]
  },
  {
   "cell_type": "code",
   "execution_count": 9,
   "id": "8c311148",
   "metadata": {},
   "outputs": [
    {
     "name": "stdout",
     "output_type": "stream",
     "text": [
      "Probabilità per y:\n",
      "x = (0, 0, 0, 0, 0, 0, 0) : 0.124600\n",
      "x = (0, 0, 0, 0, 0, 0, 1) : 0.127600\n",
      "x = (0, 0, 0, 0, 0, 1, 0) : 0.129900\n",
      "x = (0, 0, 0, 0, 1, 0, 0) : 0.122900\n",
      "x = (0, 0, 0, 1, 0, 0, 0) : 0.128800\n",
      "x = (0, 0, 1, 0, 0, 0, 0) : 0.122700\n",
      "x = (0, 1, 0, 0, 0, 0, 0) : 0.123400\n",
      "x = (1, 0, 0, 0, 0, 0, 0) : 0.120100\n",
      "\n",
      "Probabilità per z:\n",
      "y = (0, 0, 0, 0, 0, 0, 0) : 0.014300\n",
      "y = (0, 0, 0, 0, 0, 0, 1) : 0.017700\n",
      "y = (0, 0, 0, 0, 0, 1, 0) : 0.018400\n",
      "y = (0, 0, 0, 0, 0, 1, 1) : 0.015700\n",
      "y = (0, 0, 0, 0, 1, 0, 0) : 0.016300\n",
      "y = (0, 0, 0, 0, 1, 0, 1) : 0.016300\n",
      "y = (0, 0, 0, 0, 1, 1, 0) : 0.015100\n",
      "y = (0, 0, 0, 0, 1, 1, 1) : 0.014800\n",
      "y = (0, 0, 0, 1, 0, 0, 0) : 0.015100\n",
      "y = (0, 0, 0, 1, 0, 0, 1) : 0.015600\n",
      "y = (0, 0, 0, 1, 0, 1, 0) : 0.016000\n",
      "y = (0, 0, 0, 1, 0, 1, 1) : 0.016600\n",
      "y = (0, 0, 0, 1, 1, 0, 0) : 0.016000\n",
      "y = (0, 0, 0, 1, 1, 0, 1) : 0.014800\n",
      "y = (0, 0, 0, 1, 1, 1, 0) : 0.015200\n",
      "y = (0, 0, 1, 0, 0, 0, 0) : 0.015800\n",
      "y = (0, 0, 1, 0, 0, 0, 1) : 0.014700\n",
      "y = (0, 0, 1, 0, 0, 1, 0) : 0.013200\n",
      "y = (0, 0, 1, 0, 0, 1, 1) : 0.015500\n",
      "y = (0, 0, 1, 0, 1, 0, 0) : 0.016500\n",
      "y = (0, 0, 1, 0, 1, 0, 1) : 0.015900\n",
      "y = (0, 0, 1, 0, 1, 1, 0) : 0.013200\n",
      "y = (0, 0, 1, 1, 0, 0, 0) : 0.015300\n",
      "y = (0, 0, 1, 1, 0, 0, 1) : 0.016200\n",
      "y = (0, 0, 1, 1, 0, 1, 0) : 0.014400\n",
      "y = (0, 0, 1, 1, 1, 0, 0) : 0.015800\n",
      "y = (0, 1, 0, 0, 0, 0, 0) : 0.014800\n",
      "y = (0, 1, 0, 0, 0, 0, 1) : 0.017200\n",
      "y = (0, 1, 0, 0, 0, 1, 0) : 0.015000\n",
      "y = (0, 1, 0, 0, 0, 1, 1) : 0.016500\n",
      "y = (0, 1, 0, 0, 1, 0, 0) : 0.016900\n",
      "y = (0, 1, 0, 0, 1, 0, 1) : 0.014100\n",
      "y = (0, 1, 0, 0, 1, 1, 0) : 0.015000\n",
      "y = (0, 1, 0, 1, 0, 0, 0) : 0.015400\n",
      "y = (0, 1, 0, 1, 0, 0, 1) : 0.016000\n",
      "y = (0, 1, 0, 1, 0, 1, 0) : 0.015100\n",
      "y = (0, 1, 0, 1, 1, 0, 0) : 0.016400\n",
      "y = (0, 1, 1, 0, 0, 0, 0) : 0.014400\n",
      "y = (0, 1, 1, 0, 0, 0, 1) : 0.015600\n",
      "y = (0, 1, 1, 0, 0, 1, 0) : 0.017700\n",
      "y = (0, 1, 1, 0, 1, 0, 0) : 0.014500\n",
      "y = (0, 1, 1, 1, 0, 0, 0) : 0.017500\n",
      "y = (1, 0, 0, 0, 0, 0, 0) : 0.014200\n",
      "y = (1, 0, 0, 0, 0, 0, 1) : 0.018000\n",
      "y = (1, 0, 0, 0, 0, 1, 0) : 0.016600\n",
      "y = (1, 0, 0, 0, 0, 1, 1) : 0.014300\n",
      "y = (1, 0, 0, 0, 1, 0, 0) : 0.014200\n",
      "y = (1, 0, 0, 0, 1, 0, 1) : 0.015900\n",
      "y = (1, 0, 0, 0, 1, 1, 0) : 0.012600\n",
      "y = (1, 0, 0, 1, 0, 0, 0) : 0.013600\n",
      "y = (1, 0, 0, 1, 0, 0, 1) : 0.015500\n",
      "y = (1, 0, 0, 1, 0, 1, 0) : 0.014300\n",
      "y = (1, 0, 0, 1, 1, 0, 0) : 0.016700\n",
      "y = (1, 0, 1, 0, 0, 0, 0) : 0.017200\n",
      "y = (1, 0, 1, 0, 0, 0, 1) : 0.016900\n",
      "y = (1, 0, 1, 0, 0, 1, 0) : 0.016100\n",
      "y = (1, 0, 1, 0, 1, 0, 0) : 0.015200\n",
      "y = (1, 0, 1, 1, 0, 0, 0) : 0.014700\n",
      "y = (1, 1, 0, 0, 0, 0, 0) : 0.016400\n",
      "y = (1, 1, 0, 0, 0, 0, 1) : 0.015500\n",
      "y = (1, 1, 0, 0, 0, 1, 0) : 0.015000\n",
      "y = (1, 1, 0, 0, 1, 0, 0) : 0.016800\n",
      "y = (1, 1, 0, 1, 0, 0, 0) : 0.016600\n",
      "y = (1, 1, 1, 0, 0, 0, 0) : 0.017200\n"
     ]
    }
   ],
   "source": [
    "# Stampa le probabilità ordinate per x e y\n",
    "print(\"Probabilità per y:\")\n",
    "for x_val, prob in x_probabilities.items():\n",
    "    print(f\"x = {x_val} : {prob:.6f}\")\n",
    "\n",
    "print(\"\\nProbabilità per z:\")\n",
    "for y_val, prob in y_probabilities.items():\n",
    "    print(f\"y = {y_val} : {prob:.6f}\")"
   ]
  },
  {
   "cell_type": "markdown",
   "id": "6cba42d4",
   "metadata": {},
   "source": [
    "# Task 2"
   ]
  },
  {
   "cell_type": "code",
   "execution_count": 10,
   "id": "4cc727fc",
   "metadata": {},
   "outputs": [],
   "source": [
    "H_C = [[0,0,0,0,0,0,0],[0,1,0,0,1,0,1], [0,0,1,0,0,1,1], [0,0,0,1,1,1,1], [0,1,1,0,1,1,0], [0,1,0,1,0,1,0], [0,0,1,1,1,0,0], [0,1,1,1,0,0,1]]\n",
    "\n",
    "\n",
    "def binary_complement(codeword):\n",
    "\n",
    "    complement = []\n",
    "    for i in range (len(codeword)):\n",
    "        if(codeword[i]==1):\n",
    "            complement.append(0)\n",
    "        else:\n",
    "            complement.append(1)\n",
    "    return complement\n",
    "\n",
    "def random_binning_encoder(u):\n",
    "    mask = [1 for _ in range(7)]\n",
    "    x = None\n",
    "\n",
    "    for x in H_C:\n",
    "        if x[1:4] == u:\n",
    "            if random.randint(0, 1) == 1:\n",
    "                x = xor(x, mask)    #calcolca il complemento\n",
    "            break   \n",
    "    return x"
   ]
  },
  {
   "cell_type": "code",
   "execution_count": 11,
   "id": "0060c016",
   "metadata": {},
   "outputs": [
    {
     "name": "stdout",
     "output_type": "stream",
     "text": [
      "Messaggio: [0, 0, 0]\n",
      "Codifica: [1, 1, 1, 1, 1, 1, 1]\n",
      "Messaggio: [0, 0, 1]\n",
      "Codifica: [0, 0, 0, 1, 1, 1, 1]\n",
      "Messaggio: [0, 1, 0]\n",
      "Codifica: [1, 1, 0, 1, 1, 0, 0]\n",
      "Messaggio: [0, 1, 1]\n",
      "Codifica: [0, 0, 1, 1, 1, 0, 0]\n",
      "Messaggio: [1, 0, 0]\n",
      "Codifica: [0, 1, 0, 0, 1, 0, 1]\n",
      "Messaggio: [1, 0, 1]\n",
      "Codifica: [0, 1, 0, 1, 0, 1, 0]\n",
      "Messaggio: [1, 1, 0]\n",
      "Codifica: [1, 0, 0, 1, 0, 0, 1]\n",
      "Messaggio: [1, 1, 1]\n",
      "Codifica: [0, 1, 1, 1, 0, 0, 1]\n"
     ]
    }
   ],
   "source": [
    "import itertools\n",
    "\n",
    "\n",
    "all_messages = [list(vector) for vector in itertools.product([0, 1], repeat=3)]\n",
    "\n",
    "for m in all_messages:\n",
    "    print(f\"Messaggio: {m}\")\n",
    "    x = random_binning_encoder(m)\n",
    "    print(f\"Codifica: {x}\")"
   ]
  },
  {
   "cell_type": "markdown",
   "id": "71a1e683",
   "metadata": {},
   "source": [
    "# Task 3"
   ]
  },
  {
   "cell_type": "code",
   "execution_count": null,
   "id": "834084e8",
   "metadata": {},
   "outputs": [],
   "source": [
    "def hamming_distance(x,y):\n",
    "    \n",
    "    if len(x) != len(y):\n",
    "        raise ValueError(\"Le liste devono avere la stessa lunghezza\")\n",
    "    return sum(el_x != el_y for el_x, el_y in zip(x, y))\n",
    "\n",
    "\n",
    "def random_binning_decoder(y):\n",
    "    h_c = H_C + [xor([1,1,1,1,1,1,1],x) for x in H_C]\n",
    "    distances = [hamming_distance(y, x) for x in h_c]\n",
    "    min_index = distances.index(min(distances))\n",
    "\n",
    "    x = h_c[min_index]\n",
    "    if x[0] == 1:\n",
    "        u = xor(x[1:4], [1,1,1])\n",
    "    else:\n",
    "        u = x[1:4]\n",
    "    return u"
   ]
  },
  {
   "cell_type": "code",
   "execution_count": 13,
   "id": "cc4ec762",
   "metadata": {},
   "outputs": [
    {
     "name": "stdout",
     "output_type": "stream",
     "text": [
      "Messaggio: [0, 0, 0]\n",
      "Codifica: [0, 0, 0, 0, 0, 0, 0]\n",
      "Decodifica: [0, 0, 0]\n",
      "-----\n",
      "Messaggio: [0, 0, 1]\n",
      "Codifica: [0, 0, 0, 1, 1, 1, 1]\n",
      "Decodifica: [0, 0, 1]\n",
      "-----\n",
      "Messaggio: [0, 1, 0]\n",
      "Codifica: [0, 0, 1, 0, 0, 1, 1]\n",
      "Decodifica: [0, 1, 0]\n",
      "-----\n",
      "Messaggio: [0, 1, 1]\n",
      "Codifica: [0, 0, 1, 1, 1, 0, 0]\n",
      "Decodifica: [0, 1, 1]\n",
      "-----\n",
      "Messaggio: [1, 0, 0]\n",
      "Codifica: [1, 0, 1, 1, 0, 1, 0]\n",
      "Decodifica: [1, 0, 0]\n",
      "-----\n",
      "Messaggio: [1, 0, 1]\n",
      "Codifica: [1, 0, 1, 0, 1, 0, 1]\n",
      "Decodifica: [1, 0, 1]\n",
      "-----\n",
      "Messaggio: [1, 1, 0]\n",
      "Codifica: [1, 0, 0, 1, 0, 0, 1]\n",
      "Decodifica: [1, 1, 0]\n",
      "-----\n",
      "Messaggio: [1, 1, 1]\n",
      "Codifica: [1, 0, 0, 0, 1, 1, 0]\n",
      "Decodifica: [1, 1, 1]\n",
      "-----\n"
     ]
    }
   ],
   "source": [
    "all_messages = [list(vector) for vector in itertools.product([0, 1], repeat=3)]\n",
    "\n",
    "for m in all_messages:\n",
    "    print(f\"Messaggio: {m}\")\n",
    "    x = random_binning_encoder(m)\n",
    "    print(f\"Codifica: {x}\")\n",
    "\n",
    "    u = random_binning_decoder(x)\n",
    "    print(f\"Decodifica: {u}\")\n",
    "    print(\"-----\")"
   ]
  },
  {
   "cell_type": "code",
   "execution_count": 14,
   "id": "46350d12",
   "metadata": {},
   "outputs": [
    {
     "name": "stdout",
     "output_type": "stream",
     "text": [
      "Messaggio: [0, 0, 0]\n",
      "Codifica: [0, 0, 0, 0, 0, 0, 0]\n",
      "Canale legittimo: [0, 0, 0, 0, 0, 0, 1]\n",
      "Decodifica: [0, 0, 0]\n",
      "-----\n",
      "Messaggio: [0, 0, 1]\n",
      "Codifica: [0, 0, 0, 1, 1, 1, 1]\n",
      "Canale legittimo: [0, 0, 1, 1, 1, 1, 1]\n",
      "Decodifica: [0, 0, 1]\n",
      "-----\n",
      "Messaggio: [0, 1, 0]\n",
      "Codifica: [1, 1, 0, 1, 1, 0, 0]\n",
      "Canale legittimo: [1, 1, 0, 0, 1, 0, 0]\n",
      "Decodifica: [0, 1, 0]\n",
      "-----\n",
      "Messaggio: [0, 1, 1]\n",
      "Codifica: [1, 1, 0, 0, 0, 1, 1]\n",
      "Canale legittimo: [1, 0, 0, 0, 0, 1, 1]\n",
      "Decodifica: [0, 1, 1]\n",
      "-----\n",
      "Messaggio: [1, 0, 0]\n",
      "Codifica: [0, 1, 0, 0, 1, 0, 1]\n",
      "Canale legittimo: [0, 1, 0, 0, 1, 0, 0]\n",
      "Decodifica: [1, 0, 0]\n",
      "-----\n",
      "Messaggio: [1, 0, 1]\n",
      "Codifica: [0, 1, 0, 1, 0, 1, 0]\n",
      "Canale legittimo: [0, 0, 0, 1, 0, 1, 0]\n",
      "Decodifica: [1, 0, 1]\n",
      "-----\n",
      "Messaggio: [1, 1, 0]\n",
      "Codifica: [1, 0, 0, 1, 0, 0, 1]\n",
      "Canale legittimo: [1, 0, 1, 1, 0, 0, 1]\n",
      "Decodifica: [1, 1, 0]\n",
      "-----\n",
      "Messaggio: [1, 1, 1]\n",
      "Codifica: [0, 1, 1, 1, 0, 0, 1]\n",
      "Canale legittimo: [0, 1, 0, 1, 0, 0, 1]\n",
      "Decodifica: [1, 1, 1]\n",
      "-----\n"
     ]
    }
   ],
   "source": [
    "all_messages = [list(vector) for vector in itertools.product([0, 1], repeat=3)]\n",
    "\n",
    "for m in all_messages:\n",
    "    print(f\"Messaggio: {m}\")\n",
    "    x = random_binning_encoder(m)\n",
    "    print(f\"Codifica: {x}\")\n",
    "    y, _ = wiretap_channel(x)\n",
    "    print(f\"Canale legittimo: {y}\")\n",
    "\n",
    "    u = random_binning_decoder(y)\n",
    "    print(f\"Decodifica: {u}\")\n",
    "    print(\"-----\")"
   ]
  },
  {
   "cell_type": "markdown",
   "id": "6ca439d0",
   "metadata": {},
   "source": [
    "#TASK 5"
   ]
  },
  {
   "cell_type": "code",
   "execution_count": 15,
   "id": "32a39755",
   "metadata": {},
   "outputs": [],
   "source": [
    "def binary_symmetric_channel(input,error):\n",
    "    output=[]\n",
    "    for bit in input:\n",
    "        if random.random()<=error:\n",
    "                output.append(bit ^1)\n",
    "        else:\n",
    "                output.append(bit)\n",
    "\n",
    "    return output\n",
    "\n",
    "def evaluate_BSC(error=0.1,iterations=10**5):\n",
    "    x = [0,0,0,0,0,0,0]\n",
    "    #error = 0.1\n",
    "    count = 0\n",
    "\n",
    "    for i in range(iterations):\n",
    "        x_bsc = binary_symmetric_channel(x,error)\n",
    "        for i in range(7):\n",
    "            if x_bsc[i]==1:\n",
    "                count+=1\n",
    "\n",
    "    print(f\"Mean error for {iterations} iterations is: {count/(iterations*len(x))}.\\nWith {count} errors!\")"
   ]
  },
  {
   "cell_type": "markdown",
   "id": "844b8536",
   "metadata": {},
   "source": [
    "#Testing task 5"
   ]
  },
  {
   "cell_type": "code",
   "execution_count": 16,
   "id": "182e8d6a",
   "metadata": {},
   "outputs": [
    {
     "name": "stdout",
     "output_type": "stream",
     "text": [
      "Legitimate channel:\n",
      "Mean error for 1000000 iterations is: 0.09952557142857144.\n",
      "With 696679 errors!\n",
      "Eavesdropper: \n",
      "Mean error for 1000000 iterations is: 0.29990442857142857.\n",
      "With 2099331 errors!\n"
     ]
    }
   ],
   "source": [
    "epsilon = 0.1\n",
    "delta = 0.3\n",
    "print(\"Legitimate channel:\")\n",
    "evaluate_BSC(epsilon,iterations=10**6)\n",
    "print(\"Eavesdropper: \")\n",
    "evaluate_BSC(delta,iterations=10**6)"
   ]
  },
  {
   "cell_type": "code",
   "execution_count": 36,
   "id": "08c0598a",
   "metadata": {},
   "outputs": [],
   "source": [
    "def connected_channels(error,u=[0,0,0]):\n",
    "    x=random_binning_encoder(u)\n",
    "    y=binary_symmetric_channel(x,error)\n",
    "    return random_binning_decoder(y)\n",
    "\n",
    "def connected_channels_simulations(error,u=[0,0,0],iterations=10**5):\n",
    "    \n",
    "    count=0\n",
    "    for i in range(iterations):\n",
    "        if [0,0,0] != connected_channels(error):\n",
    "            count+=1\n",
    "    return (f\"The number of incorrect decoding is: {count} over {iterations} iterations. With a probability of error in the decoding of {count/iterations}\")\n"
   ]
  },
  {
   "cell_type": "code",
   "execution_count": null,
   "id": "54ccdba3",
   "metadata": {},
   "outputs": [
    {
     "data": {
      "text/plain": [
       "'The number of incorrect decoding is: 66822 over 100000 iterations. With a probability of error in the decoding of 0.66822'"
      ]
     },
     "execution_count": 37,
     "metadata": {},
     "output_type": "execute_result"
    }
   ],
   "source": [
    "print(\"Legitimate channel:\")\n",
    "connected_channels_simulations(epsilon)\n",
    "print(\"Eavesdropper:\")\n",
    "connected_channels_simulations(delta)"
   ]
  },
  {
   "cell_type": "markdown",
   "id": "507137d5",
   "metadata": {},
   "source": [
    "##TASK 6 "
   ]
  },
  {
   "cell_type": "code",
   "execution_count": null,
   "id": "496a4141",
   "metadata": {},
   "outputs": [],
   "source": []
  },
  {
   "cell_type": "markdown",
   "id": "7f81c363",
   "metadata": {},
   "source": [
    "##TASK 7"
   ]
  },
  {
   "cell_type": "code",
   "execution_count": 84,
   "id": "33cd0cbf",
   "metadata": {},
   "outputs": [],
   "source": [
    "def gray_encode(n):\n",
    "    return n ^ (n >> 1)\n",
    "\n",
    "def gray_decode(n):\n",
    "    \"\"\"Decodifica un numero in Gray code a binario\"\"\"\n",
    "    mask = n.copy()\n",
    "    while np.any(mask >> 1):\n",
    "        mask = mask >> 1\n",
    "        n = n ^ mask\n",
    "    return n\n",
    "\n",
    "\n",
    "def AWGN_channel(message=[-1,-3,0,-1,1,0,0]):\n",
    "\n",
    "    noise = [np.random.normal() for i in range(7)]\n",
    "    for i in range (len(message)):\n",
    "        message[i]+=noise[i]\n",
    "    return message+noise\n",
    "\n",
    "def bits_to_integers(bits, bits_per_symbol):\n",
    "    # Raggruppa i bit a gruppi di bits_per_symbol e converte in interi\n",
    "    num_symbols = len(bits) // bits_per_symbol\n",
    "    bits = bits[:num_symbols * bits_per_symbol]  # Troncamento se necessario\n",
    "    bit_groups = bits.reshape((-1, bits_per_symbol))\n",
    "    powers = 2 ** np.arange(bits_per_symbol - 1, -1, -1)\n",
    "    return np.dot(bit_groups, powers)\n",
    "\n",
    "\n",
    "def PAM_modulator(input, cardinality = 2**7):\n",
    "\n",
    "    bits = np.array(input)\n",
    "    bit_symbol = int(np.log2(cardinality))\n",
    "\n",
    "    integers = bits_to_integers(bits, bit_symbol)\n",
    "\n",
    "    integers = gray_encode(integers)\n",
    "\n",
    "    pam_symbols = 2 * integers - (cardinality - 1)\n",
    "\n",
    "    return pam_symbols\n",
    "\n",
    "def PAM_demodulator(input, cardinality = 2**7):\n",
    "        # 1. Livelli possibili PAM (es: M=4 → [-3, -1, +1, +3])\n",
    "    levels = 2 * np.arange(cardinality) - (cardinality - 1)\n",
    "\n",
    "    # 2. Trova l'indice del livello più vicino per ogni simbolo ricevuto\n",
    "    indices = np.argmin(np.abs(input[:, None] - levels[None, :]), axis=1)\n",
    "    \n",
    "    indices = gray_decode(indices)\n",
    "\n",
    "    # 3. Converti indici in bit\n",
    "    bits_per_symbol = int(np.log2(cardinality))\n",
    "    bit_matrix = ((indices[:, None] & (1 << np.arange(bits_per_symbol-1, -1, -1))) > 0).astype(int)\n",
    "    bits = bit_matrix.flatten()\n",
    "\n",
    "    return bits\n"
   ]
  },
  {
   "cell_type": "code",
   "execution_count": 81,
   "id": "e073b6e1",
   "metadata": {},
   "outputs": [
    {
     "name": "stdout",
     "output_type": "stream",
     "text": [
      "Input bit: [0 0 0 0 0 1 1 1 0 1 0 1 1 0 0 0 0 0 0 0 0 1 1 0 1 1 1 0 1 0 0 1 1 0 0 0 0\n",
      " 0 0 0 0 1 0 0 0 0 1 0 0 1 1 0 1 0 1 1 1 0 0 1 1 0 1]\n",
      "Simboli PAM-128: [-123  123 -127   51   85 -125 -115   61   87]\n",
      "Output of demodulator: [0 0 0 0 0 1 1 1 0 1 0 1 1 0 0 0 0 0 0 0 0 1 1 0 1 1 1 0 1 0 0 1 1 0 0 0 0\n",
      " 0 0 0 0 1 0 0 0 0 1 0 0 1 1 0 1 0 1 1 1 0 0 1 1 0 1]\n"
     ]
    }
   ],
   "source": [
    "bits = np.random.randint(0, 2, 63)\n",
    "pam_symbols = PAM_modulator(bits)\n",
    "bit_recieved =PAM_demodulator(pam_symbols)\n",
    "\n",
    "\n",
    "print(\"Input bit:\", bits)\n",
    "print(\"Simboli PAM-128:\", pam_symbols)\n",
    "print(f\"Output of demodulator: {bit_recieved}\")\n"
   ]
  },
  {
   "cell_type": "code",
   "execution_count": 91,
   "id": "17dff451",
   "metadata": {},
   "outputs": [],
   "source": [
    "def wiretap_AWGN_channel(u=[0,0,0]):\n",
    "    x=random_binning_encoder(u)\n",
    "    g = PAM_modulator(x)\n",
    "    y = AWGN_channel(g)\n",
    "    print(y)\n",
    "    z = PAM_demodulator(y)\n",
    "    return random_binning_decoder(z)"
   ]
  },
  {
   "cell_type": "code",
   "execution_count": 92,
   "id": "01eada44",
   "metadata": {},
   "outputs": [
    {
     "name": "stdout",
     "output_type": "stream",
     "text": [
      "[-123.91787343 -125.162043   -124.92246606 -127.53022038 -127.11841442\n",
      " -123.57972826 -125.53930799]\n",
      "[0 0 0 0 0 1 1 0 0 0 0 0 0 1 0 0 0 0 0 0 1 0 0 0 0 0 0 0 0 0 0 0 0 0 0 0 0\n",
      " 0 0 0 1 1 0 0 0 0 0 0 1] [0, 0, 0, 0, 0, 0, 0]\n"
     ]
    },
    {
     "ename": "ValueError",
     "evalue": "Le liste devono avere la stessa lunghezza",
     "output_type": "error",
     "traceback": [
      "\u001b[1;31m---------------------------------------------------------------------------\u001b[0m",
      "\u001b[1;31mValueError\u001b[0m                                Traceback (most recent call last)",
      "Cell \u001b[1;32mIn[92], line 1\u001b[0m\n\u001b[1;32m----> 1\u001b[0m \u001b[38;5;28mprint\u001b[39m(\u001b[43mwiretap_AWGN_channel\u001b[49m\u001b[43m(\u001b[49m\u001b[43m)\u001b[49m)\n",
      "Cell \u001b[1;32mIn[91], line 7\u001b[0m, in \u001b[0;36mwiretap_AWGN_channel\u001b[1;34m(u)\u001b[0m\n\u001b[0;32m      5\u001b[0m \u001b[38;5;28mprint\u001b[39m(y)\n\u001b[0;32m      6\u001b[0m z \u001b[38;5;241m=\u001b[39m PAM_demodulator(y)\n\u001b[1;32m----> 7\u001b[0m \u001b[38;5;28;01mreturn\u001b[39;00m \u001b[43mrandom_binning_decoder\u001b[49m\u001b[43m(\u001b[49m\u001b[43mz\u001b[49m\u001b[43m)\u001b[49m\n",
      "Cell \u001b[1;32mIn[88], line 10\u001b[0m, in \u001b[0;36mrandom_binning_decoder\u001b[1;34m(y)\u001b[0m\n\u001b[0;32m      8\u001b[0m \u001b[38;5;28;01mdef\u001b[39;00m \u001b[38;5;21mrandom_binning_decoder\u001b[39m(y):\n\u001b[0;32m      9\u001b[0m     h_c \u001b[38;5;241m=\u001b[39m H_C \u001b[38;5;241m+\u001b[39m [xor([\u001b[38;5;241m1\u001b[39m,\u001b[38;5;241m1\u001b[39m,\u001b[38;5;241m1\u001b[39m,\u001b[38;5;241m1\u001b[39m,\u001b[38;5;241m1\u001b[39m,\u001b[38;5;241m1\u001b[39m,\u001b[38;5;241m1\u001b[39m],x) \u001b[38;5;28;01mfor\u001b[39;00m x \u001b[38;5;129;01min\u001b[39;00m H_C]\n\u001b[1;32m---> 10\u001b[0m     distances \u001b[38;5;241m=\u001b[39m [\u001b[43mhamming_distance\u001b[49m\u001b[43m(\u001b[49m\u001b[43my\u001b[49m\u001b[43m,\u001b[49m\u001b[43m \u001b[49m\u001b[43mx\u001b[49m\u001b[43m)\u001b[49m \u001b[38;5;28;01mfor\u001b[39;00m x \u001b[38;5;129;01min\u001b[39;00m h_c]\n\u001b[0;32m     11\u001b[0m     min_index \u001b[38;5;241m=\u001b[39m distances\u001b[38;5;241m.\u001b[39mindex(\u001b[38;5;28mmin\u001b[39m(distances))\n\u001b[0;32m     13\u001b[0m     x \u001b[38;5;241m=\u001b[39m h_c[min_index]\n",
      "Cell \u001b[1;32mIn[88], line 4\u001b[0m, in \u001b[0;36mhamming_distance\u001b[1;34m(x, y)\u001b[0m\n\u001b[0;32m      2\u001b[0m \u001b[38;5;28mprint\u001b[39m(x,y)\n\u001b[0;32m      3\u001b[0m \u001b[38;5;28;01mif\u001b[39;00m \u001b[38;5;28mlen\u001b[39m(x) \u001b[38;5;241m!=\u001b[39m \u001b[38;5;28mlen\u001b[39m(y):\n\u001b[1;32m----> 4\u001b[0m     \u001b[38;5;28;01mraise\u001b[39;00m \u001b[38;5;167;01mValueError\u001b[39;00m(\u001b[38;5;124m\"\u001b[39m\u001b[38;5;124mLe liste devono avere la stessa lunghezza\u001b[39m\u001b[38;5;124m\"\u001b[39m)\n\u001b[0;32m      5\u001b[0m \u001b[38;5;28;01mreturn\u001b[39;00m \u001b[38;5;28msum\u001b[39m(el_x \u001b[38;5;241m!=\u001b[39m el_y \u001b[38;5;28;01mfor\u001b[39;00m el_x, el_y \u001b[38;5;129;01min\u001b[39;00m \u001b[38;5;28mzip\u001b[39m(x, y))\n",
      "\u001b[1;31mValueError\u001b[0m: Le liste devono avere la stessa lunghezza"
     ]
    }
   ],
   "source": [
    "print(wiretap_AWGN_channel())"
   ]
  }
 ],
 "metadata": {
  "kernelspec": {
   "display_name": "Python 3",
   "language": "python",
   "name": "python3"
  },
  "language_info": {
   "codemirror_mode": {
    "name": "ipython",
    "version": 3
   },
   "file_extension": ".py",
   "mimetype": "text/x-python",
   "name": "python",
   "nbconvert_exporter": "python",
   "pygments_lexer": "ipython3",
   "version": "3.12.10"
  }
 },
 "nbformat": 4,
 "nbformat_minor": 5
}
