{
 "cells": [
  {
   "cell_type": "code",
   "execution_count": 18,
   "id": "6fffdf8d",
   "metadata": {},
   "outputs": [],
   "source": [
    "import numpy as np\n",
    "import csv\n",
    "import ast\n",
    "import random"
   ]
  },
  {
   "cell_type": "markdown",
   "id": "4f8add77",
   "metadata": {},
   "source": [
    "#TASK 1\n"
   ]
  },
  {
   "cell_type": "code",
   "execution_count": 19,
   "id": "dd1558ab",
   "metadata": {},
   "outputs": [
    {
     "name": "stdout",
     "output_type": "stream",
     "text": [
      "[[0, 0, 0, 0, 0, 0, 0], [1, 0, 0, 0, 0, 0, 0], [0, 1, 0, 0, 0, 0, 0], [0, 0, 1, 0, 0, 0, 0], [0, 0, 0, 1, 0, 0, 0], [0, 0, 0, 0, 1, 0, 0], [0, 0, 0, 0, 0, 1, 0], [0, 0, 0, 0, 0, 0, 1], [1, 1, 0, 0, 0, 0, 0], [1, 0, 1, 0, 0, 0, 0], [1, 0, 0, 1, 0, 0, 0], [1, 0, 0, 0, 1, 0, 0], [1, 0, 0, 0, 0, 1, 0], [1, 0, 0, 0, 0, 0, 1], [0, 1, 1, 0, 0, 0, 0], [0, 1, 0, 1, 0, 0, 0], [0, 1, 0, 0, 1, 0, 0], [0, 1, 0, 0, 0, 1, 0], [0, 1, 0, 0, 0, 0, 1], [0, 0, 1, 1, 0, 0, 0], [0, 0, 1, 0, 1, 0, 0], [0, 0, 1, 0, 0, 1, 0], [0, 0, 1, 0, 0, 0, 1], [0, 0, 0, 1, 1, 0, 0], [0, 0, 0, 1, 0, 1, 0], [0, 0, 0, 1, 0, 0, 1], [0, 0, 0, 0, 1, 1, 0], [0, 0, 0, 0, 1, 0, 1], [0, 0, 0, 0, 0, 1, 1], [1, 1, 1, 0, 0, 0, 0], [1, 1, 0, 1, 0, 0, 0], [1, 1, 0, 0, 1, 0, 0], [1, 1, 0, 0, 0, 1, 0], [1, 1, 0, 0, 0, 0, 1], [1, 0, 1, 1, 0, 0, 0], [1, 0, 1, 0, 1, 0, 0], [1, 0, 1, 0, 0, 1, 0], [1, 0, 1, 0, 0, 0, 1], [1, 0, 0, 1, 1, 0, 0], [1, 0, 0, 1, 0, 1, 0], [1, 0, 0, 1, 0, 0, 1], [1, 0, 0, 0, 1, 1, 0], [1, 0, 0, 0, 1, 0, 1], [1, 0, 0, 0, 0, 1, 1], [0, 1, 1, 1, 0, 0, 0], [0, 1, 1, 0, 1, 0, 0], [0, 1, 1, 0, 0, 1, 0], [0, 1, 1, 0, 0, 0, 1], [0, 1, 0, 1, 1, 0, 0], [0, 1, 0, 1, 0, 1, 0], [0, 1, 0, 1, 0, 0, 1], [0, 1, 0, 0, 1, 1, 0], [0, 1, 0, 0, 1, 0, 1], [0, 1, 0, 0, 0, 1, 1], [0, 0, 1, 1, 1, 0, 0], [0, 0, 1, 1, 0, 1, 0], [0, 0, 1, 1, 0, 0, 1], [0, 0, 1, 0, 1, 1, 0], [0, 0, 1, 0, 1, 0, 1], [0, 0, 1, 0, 0, 1, 1], [0, 0, 0, 1, 1, 1, 0], [0, 0, 0, 1, 1, 0, 1], [0, 0, 0, 1, 0, 1, 1], [0, 0, 0, 0, 1, 1, 1]]\n"
     ]
    }
   ],
   "source": [
    "def generate_legitimate_error():\n",
    "\n",
    "    legitimate_error_list = []\n",
    "    with open('dataset/legitimate_channel_error.csv', newline='') as csvfile:\n",
    "        \n",
    "        for line in csvfile:\n",
    "            legitimate_error_list.append(ast.literal_eval(line.strip()))\n",
    "\n",
    "    legitimate_error_list_clean = [elem[0] if isinstance(elem, tuple) else elem for elem in legitimate_error_list]\n",
    "\n",
    "    return legitimate_error_list_clean\n",
    "\n",
    "\n",
    "def generate_eavesdropper_error():\n",
    "\n",
    "    eavesdropper_error_list = []\n",
    "    with open('dataset/eavesdropper_channel_error.csv', newline='') as csvfile:\n",
    "        \n",
    "        for line in csvfile:\n",
    "            eavesdropper_error_list.append(ast.literal_eval(line.strip()))\n",
    "\n",
    "    eavesdropper_error_list_clean = [elem[0] if isinstance(elem, tuple) else elem for elem in eavesdropper_error_list]\n",
    "\n",
    "    return eavesdropper_error_list_clean\n",
    "\n",
    "print(generate_eavesdropper_error())\n",
    "\n"
   ]
  },
  {
   "cell_type": "code",
   "execution_count": 20,
   "id": "3203592b",
   "metadata": {},
   "outputs": [],
   "source": [
    "\n",
    "\n",
    "def random_gen(n):\n",
    "    if n <= 0:\n",
    "        raise ValueError(\"n needs to be > 0\")\n",
    "    return random.randint(0, n - 1)\n"
   ]
  },
  {
   "cell_type": "code",
   "execution_count": 21,
   "id": "16a3e9a4",
   "metadata": {},
   "outputs": [],
   "source": [
    "def binary_sum(x,y):\n",
    "\n",
    "    result = []\n",
    "    reminder = 0\n",
    "\n",
    "    for i in reversed(range(len(x))):\n",
    "        sum = x[i]+y[i]+reminder\n",
    "        bit = sum%2\n",
    "        reminder = sum // 2\n",
    "        result.insert(0,bit)\n",
    "    \n",
    "    if reminder:\n",
    "        result.insert(0,reminder)\n",
    "    \n",
    "    return result\n"
   ]
  },
  {
   "cell_type": "code",
   "execution_count": null,
   "id": "1e3714c6",
   "metadata": {},
   "outputs": [
    {
     "name": "stdout",
     "output_type": "stream",
     "text": [
      "([0, 0, 0, 1, 0, 0, 0], [0, 0, 0, 1, 1, 0, 0])\n"
     ]
    }
   ],
   "source": [
    "def wiretap_channel(input):\n",
    "\n",
    "    legitimate_error_list = generate_legitimate_error()\n",
    "    eavesdropper_error_list = generate_eavesdropper_error()\n",
    "    legitimate_error = legitimate_error_list[random_gen(8)]\n",
    "    eavesdropper_error = eavesdropper_error_list[random_gen(64)]\n",
    "\n",
    "    return (binary_sum(input,legitimate_error),binary_sum(input,eavesdropper_error))\n",
    "\n",
    "\n",
    "x = [0,0,0,0,0,0,0]\n"
   ]
  },
  {
   "cell_type": "code",
   "execution_count": 51,
   "id": "4d8bd7b2",
   "metadata": {},
   "outputs": [],
   "source": [
    "def run_wiretap_simulation(input, num_runs=10**4):\n",
    "    results = {}\n",
    "\n",
    "    for _ in range(num_runs):\n",
    "        y, z = wiretap_channel(input)\n",
    "\n",
    "        # Convertiamo le liste x e y in tuple per una gestione più facile nel dizionario\n",
    "        y_tuple = tuple(y)\n",
    "        z_tuple = tuple(z)\n",
    "\n",
    "        if (y_tuple, z_tuple) not in results:\n",
    "            results[(y_tuple, z_tuple)] = 0\n",
    "        results[(y_tuple, z_tuple)] += 1\n",
    "\n",
    "    # Calcoliamo le probabilità\n",
    "    probabilities = {key: count / num_runs for key, count in results.items()}\n",
    "    \n",
    "    return probabilities\n",
    "\n",
    "# Funzione per dividere le probabilità per x e y\n",
    "def divide_probabilities(probabilities):\n",
    "    y_probabilities = {}\n",
    "    z_probabilities = {}\n",
    "\n",
    "    # Dividiamo le probabilità\n",
    "    for (y, z), prob in probabilities.items():\n",
    "        if y not in y_probabilities:\n",
    "            y_probabilities[y] = 0\n",
    "        if z not in z_probabilities:\n",
    "            z_probabilities[z] = 0\n",
    "        \n",
    "        y_probabilities[y] += prob\n",
    "        z_probabilities[z] += prob\n",
    "\n",
    "    # Ordinamento delle probabilità\n",
    "    y_probabilities = dict(sorted(y_probabilities.items()))\n",
    "    z_probabilities = dict(sorted(z_probabilities.items()))\n",
    "\n",
    "    return y_probabilities, z_probabilities\n",
    "\n",
    "\n"
   ]
  },
  {
   "cell_type": "code",
   "execution_count": 52,
   "id": "91188c98",
   "metadata": {},
   "outputs": [],
   "source": [
    "probabilities = run_wiretap_simulation(x)\n",
    "x_probabilities, y_probabilities = divide_probabilities(probabilities)"
   ]
  },
  {
   "cell_type": "code",
   "execution_count": 48,
   "id": "8c311148",
   "metadata": {},
   "outputs": [
    {
     "name": "stdout",
     "output_type": "stream",
     "text": [
      "Probabilità per y:\n",
      "x = (0, 0, 0, 0, 0, 0, 0) : 0.126700\n",
      "x = (0, 0, 0, 0, 0, 0, 1) : 0.130000\n",
      "x = (0, 0, 0, 0, 0, 1, 0) : 0.122400\n",
      "x = (0, 0, 0, 0, 1, 0, 0) : 0.128500\n",
      "x = (0, 0, 0, 1, 0, 0, 0) : 0.119000\n",
      "x = (0, 0, 1, 0, 0, 0, 0) : 0.124500\n",
      "x = (0, 1, 0, 0, 0, 0, 0) : 0.122700\n",
      "x = (1, 0, 0, 0, 0, 0, 0) : 0.126200\n",
      "\n",
      "Probabilità per z:\n",
      "y = (0, 0, 0, 0, 0, 0, 0) : 0.015900\n",
      "y = (0, 0, 0, 0, 0, 0, 1) : 0.014300\n",
      "y = (0, 0, 0, 0, 0, 1, 0) : 0.015200\n",
      "y = (0, 0, 0, 0, 0, 1, 1) : 0.014600\n",
      "y = (0, 0, 0, 0, 1, 0, 0) : 0.016700\n",
      "y = (0, 0, 0, 0, 1, 0, 1) : 0.015400\n",
      "y = (0, 0, 0, 0, 1, 1, 0) : 0.016600\n",
      "y = (0, 0, 0, 0, 1, 1, 1) : 0.015400\n",
      "y = (0, 0, 0, 1, 0, 0, 0) : 0.017600\n",
      "y = (0, 0, 0, 1, 0, 0, 1) : 0.013900\n",
      "y = (0, 0, 0, 1, 0, 1, 0) : 0.013200\n",
      "y = (0, 0, 0, 1, 0, 1, 1) : 0.015700\n",
      "y = (0, 0, 0, 1, 1, 0, 0) : 0.018100\n",
      "y = (0, 0, 0, 1, 1, 0, 1) : 0.015800\n",
      "y = (0, 0, 0, 1, 1, 1, 0) : 0.016600\n",
      "y = (0, 0, 1, 0, 0, 0, 0) : 0.014800\n",
      "y = (0, 0, 1, 0, 0, 0, 1) : 0.017700\n",
      "y = (0, 0, 1, 0, 0, 1, 0) : 0.013700\n",
      "y = (0, 0, 1, 0, 0, 1, 1) : 0.017000\n",
      "y = (0, 0, 1, 0, 1, 0, 0) : 0.015000\n",
      "y = (0, 0, 1, 0, 1, 0, 1) : 0.015400\n",
      "y = (0, 0, 1, 0, 1, 1, 0) : 0.012600\n",
      "y = (0, 0, 1, 1, 0, 0, 0) : 0.013700\n",
      "y = (0, 0, 1, 1, 0, 0, 1) : 0.016400\n",
      "y = (0, 0, 1, 1, 0, 1, 0) : 0.015400\n",
      "y = (0, 0, 1, 1, 1, 0, 0) : 0.014800\n",
      "y = (0, 1, 0, 0, 0, 0, 0) : 0.014400\n",
      "y = (0, 1, 0, 0, 0, 0, 1) : 0.016700\n",
      "y = (0, 1, 0, 0, 0, 1, 0) : 0.018400\n",
      "y = (0, 1, 0, 0, 0, 1, 1) : 0.015400\n",
      "y = (0, 1, 0, 0, 1, 0, 0) : 0.016000\n",
      "y = (0, 1, 0, 0, 1, 0, 1) : 0.017100\n",
      "y = (0, 1, 0, 0, 1, 1, 0) : 0.014600\n",
      "y = (0, 1, 0, 1, 0, 0, 0) : 0.015200\n",
      "y = (0, 1, 0, 1, 0, 0, 1) : 0.015400\n",
      "y = (0, 1, 0, 1, 0, 1, 0) : 0.014700\n",
      "y = (0, 1, 0, 1, 1, 0, 0) : 0.016100\n",
      "y = (0, 1, 1, 0, 0, 0, 0) : 0.014900\n",
      "y = (0, 1, 1, 0, 0, 0, 1) : 0.017800\n",
      "y = (0, 1, 1, 0, 0, 1, 0) : 0.017100\n",
      "y = (0, 1, 1, 0, 1, 0, 0) : 0.016000\n",
      "y = (0, 1, 1, 1, 0, 0, 0) : 0.016700\n",
      "y = (1, 0, 0, 0, 0, 0, 0) : 0.015600\n",
      "y = (1, 0, 0, 0, 0, 0, 1) : 0.017400\n",
      "y = (1, 0, 0, 0, 0, 1, 0) : 0.015500\n",
      "y = (1, 0, 0, 0, 0, 1, 1) : 0.015200\n",
      "y = (1, 0, 0, 0, 1, 0, 0) : 0.016300\n",
      "y = (1, 0, 0, 0, 1, 0, 1) : 0.017900\n",
      "y = (1, 0, 0, 0, 1, 1, 0) : 0.015100\n",
      "y = (1, 0, 0, 1, 0, 0, 0) : 0.012400\n",
      "y = (1, 0, 0, 1, 0, 0, 1) : 0.015600\n",
      "y = (1, 0, 0, 1, 0, 1, 0) : 0.014700\n",
      "y = (1, 0, 0, 1, 1, 0, 0) : 0.015200\n",
      "y = (1, 0, 1, 0, 0, 0, 0) : 0.014600\n",
      "y = (1, 0, 1, 0, 0, 0, 1) : 0.016300\n",
      "y = (1, 0, 1, 0, 0, 1, 0) : 0.015300\n",
      "y = (1, 0, 1, 0, 1, 0, 0) : 0.017000\n",
      "y = (1, 0, 1, 1, 0, 0, 0) : 0.012900\n",
      "y = (1, 1, 0, 0, 0, 0, 0) : 0.015800\n",
      "y = (1, 1, 0, 0, 0, 0, 1) : 0.014900\n",
      "y = (1, 1, 0, 0, 0, 1, 0) : 0.016100\n",
      "y = (1, 1, 0, 0, 1, 0, 0) : 0.015400\n",
      "y = (1, 1, 0, 1, 0, 0, 0) : 0.014300\n",
      "y = (1, 1, 1, 0, 0, 0, 0) : 0.018500\n"
     ]
    }
   ],
   "source": [
    "# Stampa le probabilità ordinate per x e y\n",
    "print(\"Probabilità per y:\")\n",
    "for x_val, prob in x_probabilities.items():\n",
    "    print(f\"x = {x_val} : {prob:.6f}\")\n",
    "\n",
    "print(\"\\nProbabilità per z:\")\n",
    "for y_val, prob in y_probabilities.items():\n",
    "    print(f\"y = {y_val} : {prob:.6f}\")"
   ]
  },
  {
   "cell_type": "code",
   "execution_count": null,
   "id": "c512d2e7",
   "metadata": {},
   "outputs": [],
   "source": [
    "u= [0,0,0]\n",
    "\n",
    "def binary_complement(codeword):\n",
    "\n",
    "    complement = []\n",
    "    for i in range (len(codeword)):\n",
    "        if(codeword[i]==1):\n",
    "            complement.append(0)\n",
    "        else:\n",
    "            complement.append(1)\n",
    "    return complement\n",
    "\n",
    "def random_binning_encoder(u):\n",
    "\n",
    "    codeword = [0]+u\n",
    "    complement_codeword = \n",
    "\n",
    "\n",
    "    return x"
   ]
  }
 ],
 "metadata": {
  "kernelspec": {
   "display_name": "Python 3",
   "language": "python",
   "name": "python3"
  },
  "language_info": {
   "codemirror_mode": {
    "name": "ipython",
    "version": 3
   },
   "file_extension": ".py",
   "mimetype": "text/x-python",
   "name": "python",
   "nbconvert_exporter": "python",
   "pygments_lexer": "ipython3",
   "version": "3.12.10"
  }
 },
 "nbformat": 4,
 "nbformat_minor": 5
}
