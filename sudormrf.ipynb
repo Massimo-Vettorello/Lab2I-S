{
 "cells": [
  {
   "cell_type": "code",
   "execution_count": 11,
   "id": "6fffdf8d",
   "metadata": {},
   "outputs": [],
   "source": [
    "import numpy as np\n",
    "import csv\n",
    "import ast\n",
    "import random"
   ]
  },
  {
   "cell_type": "markdown",
   "id": "4f8add77",
   "metadata": {},
   "source": [
    "# TASK 1\n"
   ]
  },
  {
   "cell_type": "code",
   "execution_count": 12,
   "id": "dd1558ab",
   "metadata": {},
   "outputs": [
    {
     "name": "stdout",
     "output_type": "stream",
     "text": [
      "[[0, 0, 0, 0, 0, 0, 0], [1, 0, 0, 0, 0, 0, 0], [0, 1, 0, 0, 0, 0, 0], [0, 0, 1, 0, 0, 0, 0], [0, 0, 0, 1, 0, 0, 0], [0, 0, 0, 0, 1, 0, 0], [0, 0, 0, 0, 0, 1, 0], [0, 0, 0, 0, 0, 0, 1], [1, 1, 0, 0, 0, 0, 0], [1, 0, 1, 0, 0, 0, 0], [1, 0, 0, 1, 0, 0, 0], [1, 0, 0, 0, 1, 0, 0], [1, 0, 0, 0, 0, 1, 0], [1, 0, 0, 0, 0, 0, 1], [0, 1, 1, 0, 0, 0, 0], [0, 1, 0, 1, 0, 0, 0], [0, 1, 0, 0, 1, 0, 0], [0, 1, 0, 0, 0, 1, 0], [0, 1, 0, 0, 0, 0, 1], [0, 0, 1, 1, 0, 0, 0], [0, 0, 1, 0, 1, 0, 0], [0, 0, 1, 0, 0, 1, 0], [0, 0, 1, 0, 0, 0, 1], [0, 0, 0, 1, 1, 0, 0], [0, 0, 0, 1, 0, 1, 0], [0, 0, 0, 1, 0, 0, 1], [0, 0, 0, 0, 1, 1, 0], [0, 0, 0, 0, 1, 0, 1], [0, 0, 0, 0, 0, 1, 1], [1, 1, 1, 0, 0, 0, 0], [1, 1, 0, 1, 0, 0, 0], [1, 1, 0, 0, 1, 0, 0], [1, 1, 0, 0, 0, 1, 0], [1, 1, 0, 0, 0, 0, 1], [1, 0, 1, 1, 0, 0, 0], [1, 0, 1, 0, 1, 0, 0], [1, 0, 1, 0, 0, 1, 0], [1, 0, 1, 0, 0, 0, 1], [1, 0, 0, 1, 1, 0, 0], [1, 0, 0, 1, 0, 1, 0], [1, 0, 0, 1, 0, 0, 1], [1, 0, 0, 0, 1, 1, 0], [1, 0, 0, 0, 1, 0, 1], [1, 0, 0, 0, 0, 1, 1], [0, 1, 1, 1, 0, 0, 0], [0, 1, 1, 0, 1, 0, 0], [0, 1, 1, 0, 0, 1, 0], [0, 1, 1, 0, 0, 0, 1], [0, 1, 0, 1, 1, 0, 0], [0, 1, 0, 1, 0, 1, 0], [0, 1, 0, 1, 0, 0, 1], [0, 1, 0, 0, 1, 1, 0], [0, 1, 0, 0, 1, 0, 1], [0, 1, 0, 0, 0, 1, 1], [0, 0, 1, 1, 1, 0, 0], [0, 0, 1, 1, 0, 1, 0], [0, 0, 1, 1, 0, 0, 1], [0, 0, 1, 0, 1, 1, 0], [0, 0, 1, 0, 1, 0, 1], [0, 0, 1, 0, 0, 1, 1], [0, 0, 0, 1, 1, 1, 0], [0, 0, 0, 1, 1, 0, 1], [0, 0, 0, 1, 0, 1, 1], [0, 0, 0, 0, 1, 1, 1]]\n"
     ]
    }
   ],
   "source": [
    "def generate_legitimate_error():\n",
    "\n",
    "    legitimate_error_list = []\n",
    "    with open('dataset/legitimate_channel_error.csv', newline='') as csvfile:\n",
    "        \n",
    "        for line in csvfile:\n",
    "            legitimate_error_list.append(ast.literal_eval(line.strip()))\n",
    "\n",
    "    legitimate_error_list_clean = [elem[0] if isinstance(elem, tuple) else elem for elem in legitimate_error_list]\n",
    "\n",
    "    return legitimate_error_list_clean\n",
    "\n",
    "\n",
    "def generate_eavesdropper_error():\n",
    "\n",
    "    eavesdropper_error_list = []\n",
    "    with open('dataset/eavesdropper_channel_error.csv', newline='') as csvfile:\n",
    "        \n",
    "        for line in csvfile:\n",
    "            eavesdropper_error_list.append(ast.literal_eval(line.strip()))\n",
    "\n",
    "    eavesdropper_error_list_clean = [elem[0] if isinstance(elem, tuple) else elem for elem in eavesdropper_error_list]\n",
    "\n",
    "    return eavesdropper_error_list_clean\n",
    "\n",
    "print(generate_eavesdropper_error())\n",
    "\n"
   ]
  },
  {
   "cell_type": "code",
   "execution_count": 13,
   "id": "3203592b",
   "metadata": {},
   "outputs": [],
   "source": [
    "\n",
    "\n",
    "def random_gen(n):\n",
    "    if n <= 0:\n",
    "        raise ValueError(\"n needs to be > 0\")\n",
    "    return random.randint(0, n - 1)\n"
   ]
  },
  {
   "cell_type": "code",
   "execution_count": 14,
   "id": "16a3e9a4",
   "metadata": {},
   "outputs": [],
   "source": [
    "def binary_sum(x,y):\n",
    "\n",
    "    result = []\n",
    "    reminder = 0\n",
    "\n",
    "    for i in reversed(range(len(x))):\n",
    "        sum = x[i]+y[i]+reminder\n",
    "        bit = sum%2\n",
    "        reminder = sum // 2\n",
    "        result.insert(0,bit)\n",
    "    \n",
    "    if reminder:\n",
    "        result.insert(0,reminder)\n",
    "    \n",
    "    return result\n"
   ]
  },
  {
   "cell_type": "code",
   "execution_count": 15,
   "id": "1af1048e",
   "metadata": {},
   "outputs": [],
   "source": [
    "def xor(x,y): #probabilmente si potrebbe usare numpy\n",
    "    result = []\n",
    "    for i in range(len(x)):\n",
    "        result.append(x[i] ^ y[i])\n",
    "    return result"
   ]
  },
  {
   "cell_type": "code",
   "execution_count": 16,
   "id": "1e3714c6",
   "metadata": {},
   "outputs": [],
   "source": [
    "def wiretap_channel(input):\n",
    "\n",
    "    legitimate_error_list = generate_legitimate_error()\n",
    "    eavesdropper_error_list = generate_eavesdropper_error()\n",
    "    legitimate_error = legitimate_error_list[random_gen(8)]\n",
    "    eavesdropper_error = eavesdropper_error_list[random_gen(64)]\n",
    "\n",
    "    return (xor(input,legitimate_error),xor(input,eavesdropper_error))\n",
    "\n",
    "\n",
    "x = [0,0,0,0,0,0,0]\n"
   ]
  },
  {
   "cell_type": "code",
   "execution_count": 17,
   "id": "4d8bd7b2",
   "metadata": {},
   "outputs": [],
   "source": [
    "def run_wiretap_simulation(input, num_runs=10**4):\n",
    "    results = {}\n",
    "\n",
    "    for _ in range(num_runs):\n",
    "        y, z = wiretap_channel(input)\n",
    "\n",
    "        # Convertiamo le liste x e y in tuple per una gestione più facile nel dizionario\n",
    "        y_tuple = tuple(y)\n",
    "        z_tuple = tuple(z)\n",
    "\n",
    "        if (y_tuple, z_tuple) not in results:\n",
    "            results[(y_tuple, z_tuple)] = 0\n",
    "        results[(y_tuple, z_tuple)] += 1\n",
    "\n",
    "    # Calcoliamo le probabilità\n",
    "    probabilities = {key: count / num_runs for key, count in results.items()}\n",
    "    \n",
    "    return probabilities\n",
    "\n",
    "# Funzione per dividere le probabilità per x e y\n",
    "def divide_probabilities(probabilities):\n",
    "    y_probabilities = {}\n",
    "    z_probabilities = {}\n",
    "\n",
    "    # Dividiamo le probabilità\n",
    "    for (y, z), prob in probabilities.items():\n",
    "        if y not in y_probabilities:\n",
    "            y_probabilities[y] = 0\n",
    "        if z not in z_probabilities:\n",
    "            z_probabilities[z] = 0\n",
    "        \n",
    "        y_probabilities[y] += prob\n",
    "        z_probabilities[z] += prob\n",
    "\n",
    "    # Ordinamento delle probabilità\n",
    "    y_probabilities = dict(sorted(y_probabilities.items()))\n",
    "    z_probabilities = dict(sorted(z_probabilities.items()))\n",
    "\n",
    "    return y_probabilities, z_probabilities\n",
    "\n",
    "\n"
   ]
  },
  {
   "cell_type": "code",
   "execution_count": 18,
   "id": "91188c98",
   "metadata": {},
   "outputs": [],
   "source": [
    "probabilities = run_wiretap_simulation(x)\n",
    "x_probabilities, y_probabilities = divide_probabilities(probabilities)"
   ]
  },
  {
   "cell_type": "code",
   "execution_count": 19,
   "id": "8c311148",
   "metadata": {},
   "outputs": [
    {
     "name": "stdout",
     "output_type": "stream",
     "text": [
      "Probabilità per y:\n",
      "x = (0, 0, 0, 0, 0, 0, 0) : 0.120200\n",
      "x = (0, 0, 0, 0, 0, 0, 1) : 0.117900\n",
      "x = (0, 0, 0, 0, 0, 1, 0) : 0.128000\n",
      "x = (0, 0, 0, 0, 1, 0, 0) : 0.119300\n",
      "x = (0, 0, 0, 1, 0, 0, 0) : 0.131300\n",
      "x = (0, 0, 1, 0, 0, 0, 0) : 0.126900\n",
      "x = (0, 1, 0, 0, 0, 0, 0) : 0.128200\n",
      "x = (1, 0, 0, 0, 0, 0, 0) : 0.128200\n",
      "\n",
      "Probabilità per z:\n",
      "y = (0, 0, 0, 0, 0, 0, 0) : 0.018800\n",
      "y = (0, 0, 0, 0, 0, 0, 1) : 0.015300\n",
      "y = (0, 0, 0, 0, 0, 1, 0) : 0.012300\n",
      "y = (0, 0, 0, 0, 0, 1, 1) : 0.016200\n",
      "y = (0, 0, 0, 0, 1, 0, 0) : 0.015200\n",
      "y = (0, 0, 0, 0, 1, 0, 1) : 0.014100\n",
      "y = (0, 0, 0, 0, 1, 1, 0) : 0.015700\n",
      "y = (0, 0, 0, 0, 1, 1, 1) : 0.016100\n",
      "y = (0, 0, 0, 1, 0, 0, 0) : 0.016300\n",
      "y = (0, 0, 0, 1, 0, 0, 1) : 0.017700\n",
      "y = (0, 0, 0, 1, 0, 1, 0) : 0.014900\n",
      "y = (0, 0, 0, 1, 0, 1, 1) : 0.015800\n",
      "y = (0, 0, 0, 1, 1, 0, 0) : 0.017700\n",
      "y = (0, 0, 0, 1, 1, 0, 1) : 0.014700\n",
      "y = (0, 0, 0, 1, 1, 1, 0) : 0.016500\n",
      "y = (0, 0, 1, 0, 0, 0, 0) : 0.016100\n",
      "y = (0, 0, 1, 0, 0, 0, 1) : 0.016800\n",
      "y = (0, 0, 1, 0, 0, 1, 0) : 0.016600\n",
      "y = (0, 0, 1, 0, 0, 1, 1) : 0.014900\n",
      "y = (0, 0, 1, 0, 1, 0, 0) : 0.014700\n",
      "y = (0, 0, 1, 0, 1, 0, 1) : 0.016100\n",
      "y = (0, 0, 1, 0, 1, 1, 0) : 0.013000\n",
      "y = (0, 0, 1, 1, 0, 0, 0) : 0.013400\n",
      "y = (0, 0, 1, 1, 0, 0, 1) : 0.013600\n",
      "y = (0, 0, 1, 1, 0, 1, 0) : 0.015500\n",
      "y = (0, 0, 1, 1, 1, 0, 0) : 0.014900\n",
      "y = (0, 1, 0, 0, 0, 0, 0) : 0.016000\n",
      "y = (0, 1, 0, 0, 0, 0, 1) : 0.015600\n",
      "y = (0, 1, 0, 0, 0, 1, 0) : 0.014200\n",
      "y = (0, 1, 0, 0, 0, 1, 1) : 0.016600\n",
      "y = (0, 1, 0, 0, 1, 0, 0) : 0.014200\n",
      "y = (0, 1, 0, 0, 1, 0, 1) : 0.015500\n",
      "y = (0, 1, 0, 0, 1, 1, 0) : 0.015600\n",
      "y = (0, 1, 0, 1, 0, 0, 0) : 0.014600\n",
      "y = (0, 1, 0, 1, 0, 0, 1) : 0.017000\n",
      "y = (0, 1, 0, 1, 0, 1, 0) : 0.015200\n",
      "y = (0, 1, 0, 1, 1, 0, 0) : 0.014900\n",
      "y = (0, 1, 1, 0, 0, 0, 0) : 0.015000\n",
      "y = (0, 1, 1, 0, 0, 0, 1) : 0.016200\n",
      "y = (0, 1, 1, 0, 0, 1, 0) : 0.015600\n",
      "y = (0, 1, 1, 0, 1, 0, 0) : 0.016800\n",
      "y = (0, 1, 1, 1, 0, 0, 0) : 0.014300\n",
      "y = (1, 0, 0, 0, 0, 0, 0) : 0.013800\n",
      "y = (1, 0, 0, 0, 0, 0, 1) : 0.016900\n",
      "y = (1, 0, 0, 0, 0, 1, 0) : 0.018900\n",
      "y = (1, 0, 0, 0, 0, 1, 1) : 0.015000\n",
      "y = (1, 0, 0, 0, 1, 0, 0) : 0.016700\n",
      "y = (1, 0, 0, 0, 1, 0, 1) : 0.016100\n",
      "y = (1, 0, 0, 0, 1, 1, 0) : 0.016400\n",
      "y = (1, 0, 0, 1, 0, 0, 0) : 0.013600\n",
      "y = (1, 0, 0, 1, 0, 0, 1) : 0.014300\n",
      "y = (1, 0, 0, 1, 0, 1, 0) : 0.015300\n",
      "y = (1, 0, 0, 1, 1, 0, 0) : 0.016000\n",
      "y = (1, 0, 1, 0, 0, 0, 0) : 0.014800\n",
      "y = (1, 0, 1, 0, 0, 0, 1) : 0.014600\n",
      "y = (1, 0, 1, 0, 0, 1, 0) : 0.016300\n",
      "y = (1, 0, 1, 0, 1, 0, 0) : 0.017000\n",
      "y = (1, 0, 1, 1, 0, 0, 0) : 0.018500\n",
      "y = (1, 1, 0, 0, 0, 0, 0) : 0.017000\n",
      "y = (1, 1, 0, 0, 0, 0, 1) : 0.015800\n",
      "y = (1, 1, 0, 0, 0, 1, 0) : 0.015300\n",
      "y = (1, 1, 0, 0, 1, 0, 0) : 0.012700\n",
      "y = (1, 1, 0, 1, 0, 0, 0) : 0.017100\n",
      "y = (1, 1, 1, 0, 0, 0, 0) : 0.017700\n"
     ]
    }
   ],
   "source": [
    "# Stampa le probabilità ordinate per x e y\n",
    "print(\"Probabilità per y:\")\n",
    "for x_val, prob in x_probabilities.items():\n",
    "    print(f\"x = {x_val} : {prob:.6f}\")\n",
    "\n",
    "print(\"\\nProbabilità per z:\")\n",
    "for y_val, prob in y_probabilities.items():\n",
    "    print(f\"y = {y_val} : {prob:.6f}\")"
   ]
  },
  {
   "cell_type": "markdown",
   "id": "6cba42d4",
   "metadata": {},
   "source": [
    "# Task 2"
   ]
  },
  {
   "cell_type": "code",
   "execution_count": 20,
   "id": "4cc727fc",
   "metadata": {},
   "outputs": [],
   "source": [
    "H_C = [[0,0,0,0,0,0,0],[0,1,0,0,1,0,1], [0,0,1,0,0,1,1], [0,0,0,1,1,1,1], [0,1,1,0,1,1,0], [0,1,0,1,0,1,0], [0,0,1,1,1,0,0], [0,1,1,1,0,0,1]]\n",
    "\n",
    "\n",
    "def binary_complement(codeword):\n",
    "\n",
    "    complement = []\n",
    "    for i in range (len(codeword)):\n",
    "        if(codeword[i]==1):\n",
    "            complement.append(0)\n",
    "        else:\n",
    "            complement.append(1)\n",
    "    return complement\n",
    "\n",
    "def random_binning_encoder(u):\n",
    "    mask = [1 for _ in range(7)]\n",
    "    x = None\n",
    "\n",
    "    for x in H_C:\n",
    "        if x[1:4] == u:\n",
    "            if random.randint(0, 1) == 1:\n",
    "                x = xor(x, mask)    #calcolca il complemento\n",
    "            break   \n",
    "    return x"
   ]
  },
  {
   "cell_type": "code",
   "execution_count": 21,
   "id": "0060c016",
   "metadata": {},
   "outputs": [
    {
     "name": "stdout",
     "output_type": "stream",
     "text": [
      "Messaggio: [0, 0, 0]\n",
      "Codifica: [0, 0, 0, 0, 0, 0, 0]\n",
      "Messaggio: [0, 0, 1]\n",
      "Codifica: [0, 0, 0, 1, 1, 1, 1]\n",
      "Messaggio: [0, 1, 0]\n",
      "Codifica: [1, 1, 0, 1, 1, 0, 0]\n",
      "Messaggio: [0, 1, 1]\n",
      "Codifica: [1, 1, 0, 0, 0, 1, 1]\n",
      "Messaggio: [1, 0, 0]\n",
      "Codifica: [1, 0, 1, 1, 0, 1, 0]\n",
      "Messaggio: [1, 0, 1]\n",
      "Codifica: [1, 0, 1, 0, 1, 0, 1]\n",
      "Messaggio: [1, 1, 0]\n",
      "Codifica: [0, 1, 1, 0, 1, 1, 0]\n",
      "Messaggio: [1, 1, 1]\n",
      "Codifica: [0, 1, 1, 1, 0, 0, 1]\n"
     ]
    }
   ],
   "source": [
    "import itertools\n",
    "\n",
    "\n",
    "all_messages = [list(vector) for vector in itertools.product([0, 1], repeat=3)]\n",
    "\n",
    "for m in all_messages:\n",
    "    print(f\"Messaggio: {m}\")\n",
    "    x = random_binning_encoder(m)\n",
    "    print(f\"Codifica: {x}\")"
   ]
  },
  {
   "cell_type": "markdown",
   "id": "71a1e683",
   "metadata": {},
   "source": [
    "# Task 3"
   ]
  },
  {
   "cell_type": "code",
   "execution_count": 91,
   "id": "834084e8",
   "metadata": {},
   "outputs": [],
   "source": [
    "def hamming_distance(x,y):\n",
    "    if len(x) != len(y):\n",
    "        raise ValueError(\"Le liste devono avere la stessa lunghezza\")\n",
    "    return sum(el_x != el_y for el_x, el_y in zip(x, y))\n",
    "\n",
    "\n",
    "def random_binning_decoder(y):\n",
    "    h_c = H_C + [xor([1,1,1,1,1,1,1],x) for x in H_C]\n",
    "    distances = [hamming_distance(y, x) for x in h_c]\n",
    "    min_index = distances.index(min(distances))\n",
    "\n",
    "    x = h_c[min_index]\n",
    "    if x[0] == 1:\n",
    "        u = xor(x[1:4], [1,1,1])\n",
    "    else:\n",
    "        u = x[1:4]\n",
    "    return u"
   ]
  },
  {
   "cell_type": "code",
   "execution_count": 92,
   "id": "cc4ec762",
   "metadata": {},
   "outputs": [
    {
     "name": "stdout",
     "output_type": "stream",
     "text": [
      "Messaggio: [0, 0, 0]\n",
      "Codifica: [0, 0, 0, 0, 0, 0, 0]\n",
      "Decodifica: [0, 0, 0]\n",
      "-----\n",
      "Messaggio: [0, 0, 1]\n",
      "Codifica: [0, 0, 0, 1, 1, 1, 1]\n",
      "Decodifica: [0, 0, 1]\n",
      "-----\n",
      "Messaggio: [0, 1, 0]\n",
      "Codifica: [0, 0, 1, 0, 0, 1, 1]\n",
      "Decodifica: [0, 1, 0]\n",
      "-----\n",
      "Messaggio: [0, 1, 1]\n",
      "Codifica: [0, 0, 1, 1, 1, 0, 0]\n",
      "Decodifica: [0, 1, 1]\n",
      "-----\n",
      "Messaggio: [1, 0, 0]\n",
      "Codifica: [1, 0, 1, 1, 0, 1, 0]\n",
      "Decodifica: [1, 0, 0]\n",
      "-----\n",
      "Messaggio: [1, 0, 1]\n",
      "Codifica: [0, 1, 0, 1, 0, 1, 0]\n",
      "Decodifica: [1, 0, 1]\n",
      "-----\n",
      "Messaggio: [1, 1, 0]\n",
      "Codifica: [1, 0, 0, 1, 0, 0, 1]\n",
      "Decodifica: [1, 1, 0]\n",
      "-----\n",
      "Messaggio: [1, 1, 1]\n",
      "Codifica: [0, 1, 1, 1, 0, 0, 1]\n",
      "Decodifica: [1, 1, 1]\n",
      "-----\n"
     ]
    }
   ],
   "source": [
    "all_messages = [list(vector) for vector in itertools.product([0, 1], repeat=3)]\n",
    "\n",
    "for m in all_messages:\n",
    "    print(f\"Messaggio: {m}\")\n",
    "    x = random_binning_encoder(m)\n",
    "    print(f\"Codifica: {x}\")\n",
    "\n",
    "    u = random_binning_decoder(x)\n",
    "    print(f\"Decodifica: {u}\")\n",
    "    print(\"-----\")"
   ]
  },
  {
   "cell_type": "code",
   "execution_count": 93,
   "id": "46350d12",
   "metadata": {},
   "outputs": [
    {
     "name": "stdout",
     "output_type": "stream",
     "text": [
      "Messaggio: [0, 0, 0]\n",
      "Codifica: [0, 0, 0, 0, 0, 0, 0]\n",
      "Canale legittimo: [0, 0, 0, 1, 0, 0, 0]\n",
      "Decodifica: [0, 0, 0]\n",
      "-----\n",
      "Messaggio: [0, 0, 1]\n",
      "Codifica: [1, 1, 1, 0, 0, 0, 0]\n",
      "Canale legittimo: [1, 1, 0, 0, 0, 0, 0]\n",
      "Decodifica: [0, 0, 1]\n",
      "-----\n",
      "Messaggio: [0, 1, 0]\n",
      "Codifica: [1, 1, 0, 1, 1, 0, 0]\n",
      "Canale legittimo: [1, 1, 0, 1, 1, 0, 0]\n",
      "Decodifica: [0, 1, 0]\n",
      "-----\n",
      "Messaggio: [0, 1, 1]\n",
      "Codifica: [1, 1, 0, 0, 0, 1, 1]\n",
      "Canale legittimo: [1, 1, 0, 0, 0, 0, 1]\n",
      "Decodifica: [0, 1, 1]\n",
      "-----\n",
      "Messaggio: [1, 0, 0]\n",
      "Codifica: [0, 1, 0, 0, 1, 0, 1]\n",
      "Canale legittimo: [1, 1, 0, 0, 1, 0, 1]\n",
      "Decodifica: [1, 0, 0]\n",
      "-----\n",
      "Messaggio: [1, 0, 1]\n",
      "Codifica: [1, 0, 1, 0, 1, 0, 1]\n",
      "Canale legittimo: [1, 0, 1, 1, 1, 0, 1]\n",
      "Decodifica: [1, 0, 1]\n",
      "-----\n",
      "Messaggio: [1, 1, 0]\n",
      "Codifica: [1, 0, 0, 1, 0, 0, 1]\n",
      "Canale legittimo: [1, 0, 0, 0, 0, 0, 1]\n",
      "Decodifica: [1, 1, 0]\n",
      "-----\n",
      "Messaggio: [1, 1, 1]\n",
      "Codifica: [1, 0, 0, 0, 1, 1, 0]\n",
      "Canale legittimo: [1, 0, 0, 0, 0, 1, 0]\n",
      "Decodifica: [1, 1, 1]\n",
      "-----\n"
     ]
    }
   ],
   "source": [
    "all_messages = [list(vector) for vector in itertools.product([0, 1], repeat=3)]\n",
    "\n",
    "for m in all_messages:\n",
    "    print(f\"Messaggio: {m}\")\n",
    "    x = random_binning_encoder(m)\n",
    "    print(f\"Codifica: {x}\")\n",
    "    y, _ = wiretap_channel(x)\n",
    "    print(f\"Canale legittimo: {y}\")\n",
    "\n",
    "    u = random_binning_decoder(y)\n",
    "    print(f\"Decodifica: {u}\")\n",
    "    print(\"-----\")"
   ]
  },
  {
   "cell_type": "markdown",
   "id": "6ca439d0",
   "metadata": {},
   "source": [
    "#TASK 5"
   ]
  },
  {
   "cell_type": "code",
   "execution_count": 94,
   "id": "32a39755",
   "metadata": {},
   "outputs": [],
   "source": [
    "def binary_symmetric_channel(input,error):\n",
    "    output=[]\n",
    "    for bit in input:\n",
    "        if random.random()<=error:\n",
    "                output.append(bit ^1)\n",
    "        else:\n",
    "                output.append(bit)\n",
    "\n",
    "    return output\n",
    "\n",
    "def evaluate_BSC(error=0.1,iterations=10**5):\n",
    "    x = [0,0,0,0,0,0,0]\n",
    "    #error = 0.1\n",
    "    count = 0\n",
    "\n",
    "    for i in range(iterations):\n",
    "        x_bsc = binary_symmetric_channel(x,error)\n",
    "        for i in range(7):\n",
    "            if x_bsc[i]==1:\n",
    "                count+=1\n",
    "\n",
    "    print(f\"Mean error for {iterations} iterations is: {count/(iterations*len(x))}.\\nWith {count} errors!\")"
   ]
  },
  {
   "cell_type": "markdown",
   "id": "844b8536",
   "metadata": {},
   "source": [
    "#Testing task 5"
   ]
  },
  {
   "cell_type": "code",
   "execution_count": 95,
   "id": "182e8d6a",
   "metadata": {},
   "outputs": [
    {
     "name": "stdout",
     "output_type": "stream",
     "text": [
      "Legitimate channel:\n",
      "Mean error for 1000000 iterations is: 0.09993114285714286.\n",
      "With 699518 errors!\n",
      "Eavesdropper: \n",
      "Mean error for 1000000 iterations is: 0.300112.\n",
      "With 2100784 errors!\n"
     ]
    }
   ],
   "source": [
    "epsilon = 0.1\n",
    "delta = 0.3\n",
    "print(\"Legitimate channel:\")\n",
    "evaluate_BSC(epsilon,iterations=10**6)\n",
    "print(\"Eavesdropper: \")\n",
    "evaluate_BSC(delta,iterations=10**6)"
   ]
  },
  {
   "cell_type": "code",
   "execution_count": 96,
   "id": "08c0598a",
   "metadata": {},
   "outputs": [],
   "source": [
    "def connected_channels(error,u=[0,0,0,0,0,0,0]):\n",
    "    x=random_binning_encoder(u)\n",
    "    y=binary_symmetric_channel(x,error)\n",
    "    return random_binning_decoder(y)\n",
    "\n",
    "def connected_channels_simulations(error,u=[0,0,0,0,0,0,0],iterations=10**6):\n",
    "    \n",
    "    count=0\n",
    "    for i in range(iterations):\n",
    "        if [0,0,0,0,0,0,0] == connected_channels(error):\n",
    "            count+=1\n",
    "    return (f\"The number of incorrect decoding is: {count} over {iterations} iterations\")\n"
   ]
  },
  {
   "cell_type": "code",
   "execution_count": 97,
   "id": "54ccdba3",
   "metadata": {},
   "outputs": [
    {
     "data": {
      "text/plain": [
       "'The number of incorrect decoding is: 0 over 1000000 iterations'"
      ]
     },
     "execution_count": 97,
     "metadata": {},
     "output_type": "execute_result"
    }
   ],
   "source": [
    "connected_channels_simulations(epsilon)"
   ]
  },
  {
   "cell_type": "markdown",
   "id": "507137d5",
   "metadata": {},
   "source": [
    "##TASK 6 "
   ]
  },
  {
   "cell_type": "code",
   "execution_count": null,
   "id": "496a4141",
   "metadata": {},
   "outputs": [],
   "source": []
  }
 ],
 "metadata": {
  "kernelspec": {
   "display_name": "Python 3",
   "language": "python",
   "name": "python3"
  },
  "language_info": {
   "codemirror_mode": {
    "name": "ipython",
    "version": 3
   },
   "file_extension": ".py",
   "mimetype": "text/x-python",
   "name": "python",
   "nbconvert_exporter": "python",
   "pygments_lexer": "ipython3",
   "version": "3.12.10"
  }
 },
 "nbformat": 4,
 "nbformat_minor": 5
}
